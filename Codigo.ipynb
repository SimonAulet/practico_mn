{
 "cells": [
  {
   "cell_type": "markdown",
   "id": "56a8fe57-8f90-47b8-9014-3a8c6f69f2b3",
   "metadata": {},
   "source": [
    "# Practico Final"
   ]
  },
  {
   "cell_type": "markdown",
   "id": "df60fddf-a59b-423b-8985-14402050bf53",
   "metadata": {},
   "source": [
    "![Diagrama](Diagrama.png)"
   ]
  },
  {
   "cell_type": "markdown",
   "id": "f6a13d57-e755-4cfa-a8b7-dbc355cf587d",
   "metadata": {},
   "source": [
    "## Variables globales\n",
    "Voy a hacer que algunas variables sean globales. Si bien en el flowchart estan encapsuladas en las funciones, tendria que usar objetos para que las variables queden mas ordenadas y me meteria en mucho lio"
   ]
  },
  {
   "cell_type": "code",
   "execution_count": 1,
   "id": "92abc18a-4ee7-4744-a9a8-f910ee821a41",
   "metadata": {},
   "outputs": [],
   "source": [
    "global T_media\n",
    "global VT\n",
    "global VT_nuevo#Vector temperatura para ir almacenando nuevos valores\n",
    "global estado #Si la pava esta prendida o apagada\n",
    "global T_real #La temperatura del agua\n",
    "T_real=15;\n",
    "load tabla_pendientes\n",
    "global pendientes_t = tabla_pendientes\n",
    "global valores_k\n",
    "load valores_k"
   ]
  },
  {
   "cell_type": "markdown",
   "id": "6290b050-8488-456d-9476-b7cff22eb1a5",
   "metadata": {},
   "source": [
    "## ON-OFF\n",
    "Esta funcion determina el estado de la pava resistencia de la pava\n",
    "<br>`Temperatura seteada` es una constante que voy a insertar manualmente en un principio, vendria dada por el control de la pava\n",
    "<br>`DT` Viene dado por la funcion `Calculo DT` y `T media` viene dada por la funcion `Calculo VT`\n",
    "<br> El nucleo de la funcion es una comparacion entre `T media` que se va a llamar simplemente `T` y la temperatura seteada usando el $\\Delta T$ para determinar si cortar o no"
   ]
  },
  {
   "cell_type": "code",
   "execution_count": 2,
   "id": "ca443a6e-f7a5-45c1-a4ce-736931f25d97",
   "metadata": {},
   "outputs": [],
   "source": [
    "function estado = on_off(temperatura_seteada)\n",
    "    DT = calculo_DT();\n",
    "    T = calculo_t_media();\n",
    "    \n",
    "    if T+DT >= temperatura_seteada\n",
    "        estado=0;\n",
    "    else\n",
    "        estado=1;\n",
    "    end\n",
    "end"
   ]
  },
  {
   "cell_type": "markdown",
   "id": "397a4729-67c3-467d-ba8f-62203e18c90a",
   "metadata": {},
   "source": [
    "## Calculo $\\Delta T$\n",
    "\n",
    "Esta funcion va a tomar el valor ya seteado de la pendiente y compararlo con la tabla pre-seteada de relaciones entre pendiente y nivel de agua para sacar el $\\Delta T$. En verdad el nivel de agua no lo necesito."
   ]
  },
  {
   "cell_type": "code",
   "execution_count": 3,
   "id": "253f03f3-9190-4bb4-b386-35d4ba57db5b",
   "metadata": {},
   "outputs": [],
   "source": [
    "function DT = calculo_DT()\n",
    "    global pendientes_t\n",
    "    pendiente = calculo_pendiente();\n",
    "    x=1;\n",
    "    while(pendiente < pendientes_t(x, 1))\n",
    "        x++;\n",
    "        if x > length(pendientes_t(:, 1))\n",
    "            DT=pendientes_t(x-1, 2);\n",
    "            return\n",
    "        end\n",
    "    end\n",
    "    DT = pendientes_t(x, 2);\n",
    "end"
   ]
  },
  {
   "cell_type": "markdown",
   "id": "c94af729-3abd-4110-b2c0-aafa42f5e44c",
   "metadata": {},
   "source": [
    "## Calculo pendiente\n",
    "Aca sacamos mediante regresion lineal modificada la pendiente estimada del vector de temperaturas"
   ]
  },
  {
   "cell_type": "code",
   "execution_count": 4,
   "id": "fdec885b-10d1-466b-bd88-6baf2804fbf1",
   "metadata": {},
   "outputs": [],
   "source": [
    "function pendiente = calculo_pendiente()\n",
    "    global VT;\n",
    "    X = linspace(0, 1, 36);#Intervalo de tiempo de un segundo\n",
    "    Y = VT;#Vector temperaturas medidas en un segundo fraccionadas en 12 mediciones\n",
    "\n",
    "    #Calculo valores para pendiente de regresion lineal\n",
    "    n = length(X);\n",
    "    x = sum(X);\n",
    "    y = sum(Y);\n",
    "    xy = sum(X .* Y);\n",
    "    xx = sum(X .^ 2);\n",
    "    xx2 = (sum(X))^2;\n",
    "    med_x = (mean(X));\n",
    "    med_y = (mean(Y));\n",
    "\n",
    "    pendiente = (n*xy - x*y) / (n*xx - xx2);\n",
    "end"
   ]
  },
  {
   "cell_type": "markdown",
   "id": "52a56671-1300-4cb1-b56b-3871ecde64ed",
   "metadata": {},
   "source": [
    "## Calculo T Media\n",
    "Función que calcula la temperatura media basandose en la variable global del vector de temperaturas `VT`"
   ]
  },
  {
   "cell_type": "code",
   "execution_count": 5,
   "id": "4d22715e-8cb4-4603-aee0-9e51b53f9dc0",
   "metadata": {},
   "outputs": [],
   "source": [
    "function t_media = calculo_t_media()\n",
    "    global VT\n",
    "    t_media = mean(VT);\n",
    "end"
   ]
  },
  {
   "cell_type": "markdown",
   "id": "a0b90570-c045-48b1-9ec5-4a2c9fee4ba1",
   "metadata": {},
   "source": [
    "## Calculo Vector temperatura\n",
    "Esta función calcula el vector de 36 mediciones de temperatura correspondientes a un segundo de ejecución. Para calcularlo recibe un valor de temperatura instantanea y lo acumula en un vector auxiliar que se va llenando. Cuando el vector tiene dimensión 36, entonces reemplaza variable global `VT`. No lo devuelve. De esa forma, actualiza por su cuenta la variable del vector de temperaturas el cual siempre esta disponible. Como se ejecuta una vez por medicion, el vector auxiliar tambien lo tengo que almacenar como variable global"
   ]
  },
  {
   "cell_type": "code",
   "execution_count": 6,
   "id": "043df59f-1c61-43c7-bd56-41900309b877",
   "metadata": {},
   "outputs": [],
   "source": [
    "function calculo_VT(t_instantanea)\n",
    "    global VT_nuevo;\n",
    "    VT_nuevo(end+1) = t_instantanea;\n",
    "    \n",
    "    if length(VT_nuevo) > 35\n",
    "        global VT\n",
    "        VT = VT_nuevo;\n",
    "        VT_nuevo = [];\n",
    "    end\n",
    "end"
   ]
  },
  {
   "cell_type": "markdown",
   "id": "c64d8caa-0836-4980-b546-5f0a41260b82",
   "metadata": {},
   "source": [
    "# Simulacion\n",
    "Voy a simular el comportamiento de la pava en lo que seria la sonda de tempratura ya que no puedo correr el programa en la pava realmente"
   ]
  },
  {
   "cell_type": "markdown",
   "id": "21a59026-b0e4-449a-9922-4d156b6bd7dd",
   "metadata": {},
   "source": [
    "### Sonda"
   ]
  },
  {
   "cell_type": "markdown",
   "id": "e48f52fa-491e-4382-a3c6-e6c09f4dc837",
   "metadata": {},
   "source": [
    "Primero tengo la función `sonda` que simula el aumento de temperatura basandse en el coeficiente $k$ que viene determinado por la cantidad de agua en la pava. Para determinar la temperatura voy a usar el método de Heunn"
   ]
  },
  {
   "cell_type": "code",
   "execution_count": 7,
   "id": "8d7b77ed-8d0a-400e-b9d0-21e94d6fb3c0",
   "metadata": {
    "tags": []
   },
   "outputs": [],
   "source": [
    "function resultado = heun(f, x_0, y_0, X, cant_pasos=1)\n",
    "    h = abs((x_0-X) / cant_pasos);\n",
    "    x = x_0;\n",
    "    y = y_0;\n",
    "    \n",
    "    while x < X\n",
    "        x1 = x+h;\n",
    "        y1p = y + f(x, y)*h;\n",
    "        y1 = y + h*(f(x, y) + f(x1, y1p)) / 2;\n",
    "        x=x1;\n",
    "        y=y1;\n",
    "    end\n",
    "    resultado = y;\n",
    "end    "
   ]
  },
  {
   "cell_type": "markdown",
   "id": "10b2dc4c-9012-4a89-8779-74650f8ac8a7",
   "metadata": {},
   "source": [
    "Esta funcion asigna la temperatura a la variable global `T_real` en lugar de devolverla. Simula el comportamiento de la pava"
   ]
  },
  {
   "cell_type": "code",
   "execution_count": 8,
   "id": "cfef712e-0560-4f9b-bdf0-13aa388d291a",
   "metadata": {},
   "outputs": [],
   "source": [
    "function sonda(k)\n",
    "    global T_real;\n",
    "    global estado;\n",
    "\n",
    "    if estado==1\n",
    "        f = @(T) k*(T-400);\n",
    "        T_real = heun(f, 0, T_real, 1/36);#El tempo va de 0 a 1/36, no me interesa el tiempo real, solo el paso que da\n",
    "    else\n",
    "        return\n",
    "    end\n",
    "end"
   ]
  },
  {
   "cell_type": "markdown",
   "id": "35b7000a-945f-4a5c-a875-81c96beac9a7",
   "metadata": {},
   "source": [
    "### Simulador\n",
    "Ahora voy a agarrar y simular el uso de la pava\n",
    "\n",
    "La funcion `simulador` va a tomar como parametro:\n",
    "- La cantidad de agua en la pava (en el caso real no la tengo que conocer pero ahora la necesito para simular su comportamiento)\n",
    "- La temperatura seteada\n",
    "\n",
    "La cantidad de agua tiene que ser un numero entre 0.5 (minimo de la pava, si no no prende) y 1.5 (maximo de la pava, si no se rebalsa)\n",
    "<br> Y la temperatura tiene que ser menor de 100 pero mayor a 25"
   ]
  },
  {
   "cell_type": "code",
   "execution_count": 9,
   "id": "ae86b704-b5b6-4d93-8f34-69caf2200d57",
   "metadata": {},
   "outputs": [],
   "source": [
    "function registro_simulacion = simulador(cantidad_agua, T_seteada, T_inicial=15, max_t=1024)\n",
    "    #Primero determino valor de k para simular nivel de agua\n",
    "    if cantidad_agua < 0.5\n",
    "        printf(\"Se cargo menos agua de la permitida por la pava, cargar mas\\n\")\n",
    "        return\n",
    "    elseif cantidad_agua > 1.5\n",
    "        printf(\"Se cargo agua de mas, cargar menos y reintentar\\n\")\n",
    "        return\n",
    "    end\n",
    "    load valores_k;\n",
    "    x=1;\n",
    "    while valores_k(x, 1) < cantidad_agua\n",
    "        x++;\n",
    "    end\n",
    "    k = valores_k(x, 2);\n",
    "    #Chequeo que la temperatura este en el rango optimo\n",
    "    T=T_seteada;\n",
    "    if or(T > 100, T < 25)\n",
    "        printf(\"Setear temperatura entre 25 y 100 grados\\n\")\n",
    "        return\n",
    "    end\n",
    "    \n",
    "    #Preparo parametros para simulacion\n",
    "    global T_real\n",
    "    T_real = T_inicial;\n",
    "    global estado\n",
    "    registro = [];\n",
    "    \n",
    "    #Inicializo VT\n",
    "    global VT\n",
    "    global VT_aux\n",
    "    VT=0;\n",
    "    VT_aux=0;\n",
    "    for x=[1:36]\n",
    "        sonda(k)\n",
    "        calculo_VT(T_real)\n",
    "    end\n",
    "    \n",
    "    #Prendo la pava\n",
    "    estado=1;\n",
    "    t=0;\n",
    "    while(estado==1)\n",
    "        for x=[1:36]\n",
    "            sonda(k)\n",
    "            calculo_VT(T_real)\n",
    "        end\n",
    "        estado=on_off(T);\n",
    "        t++;\n",
    "        if(t>max_t)\n",
    "            printf(\"Se supera max_iter\\n\")\n",
    "            return\n",
    "        end\n",
    "        \n",
    "        #Guardo resultados en registro\n",
    "        registro(t, 1) = t;\n",
    "        registro(t, 2) = T_real;\n",
    "    end\n",
    "    registro_simulacion = registro;\n",
    "    plot(registro(:, 1), registro(:, 2), 'b', 'LineWidth', 2)\n",
    "    grid on\n",
    "    axis([0, t+12, 0, 100])\n",
    "    title('Variacion de temperatura respecto al tiempo')\n",
    "    xlabel('Tiempo (s)')\n",
    "    xlabel('Temperatura')\n",
    "end"
   ]
  },
  {
   "cell_type": "code",
   "execution_count": null,
   "id": "f093ef2f-ac80-410e-a040-b541aa041f33",
   "metadata": {},
   "outputs": [],
   "source": [
    "simulador(1.5, 78)"
   ]
  },
  {
   "cell_type": "code",
   "execution_count": null,
   "id": "b04d70f9-c1d8-4a02-a7ea-8d4eaa909cfe",
   "metadata": {},
   "outputs": [],
   "source": []
  }
 ],
 "metadata": {
  "kernelspec": {
   "display_name": "Octave",
   "language": "octave",
   "name": "octave"
  },
  "language_info": {
   "file_extension": ".m",
   "help_links": [
    {
     "text": "GNU Octave",
     "url": "https://www.gnu.org/software/octave/support.html"
    },
    {
     "text": "Octave Kernel",
     "url": "https://github.com/Calysto/octave_kernel"
    },
    {
     "text": "MetaKernel Magics",
     "url": "https://metakernel.readthedocs.io/en/latest/source/README.html"
    }
   ],
   "mimetype": "text/x-octave",
   "name": "octave",
   "version": "6.4.0"
  }
 },
 "nbformat": 4,
 "nbformat_minor": 5
}
