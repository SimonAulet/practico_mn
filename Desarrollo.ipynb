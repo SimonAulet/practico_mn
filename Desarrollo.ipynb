{
 "cells": [
  {
   "cell_type": "markdown",
   "id": "a239cddb-f5a6-4d79-aaa3-06d22a7d95e7",
   "metadata": {},
   "source": [
    "# Desarrollo y datos calculados"
   ]
  },
  {
   "cell_type": "markdown",
   "id": "572ab276-4786-4be0-a382-5428c34f54c2",
   "metadata": {},
   "source": [
    "### Interpolacion curva de temperaturas\n",
    "En base a la tabla de pruebas de pendientes por cada $1° C$ hechas a partir de 0.5, 1 y 1.5 lts de carga con la pava voy a interpolar para sacar la curva de pendientes a distintas cargas de agua. Tengo solo los extremos y un punto medio, lo tomo como suficiente para no romper mi pava haciendole tantas pruebas. Uso el polinomio interpolador de Lagrange\n",
    "![tabla pendientes](tabla_pendientes.png)"
   ]
  },
  {
   "cell_type": "code",
   "execution_count": 7,
   "id": "7333faab-338e-4da1-8517-ea3e614f1ca6",
   "metadata": {},
   "outputs": [],
   "source": [
    "#primero tabla de diferencias de temperatura con respecto a carga de agua\n",
    "mediciones_pendiente = [0.5, 1;\n",
    "                            1, 0.45;\n",
    "                            1.5, 0.31];\n",
    "#Después de cuánto se pasa la temperatura a distintos niveles de agua\n",
    "mediciones_DT = [\n",
    "                        0.5, 12;\n",
    "                        1, 8;\n",
    "                        1.5, 4];\n",
    "\n",
    "tabla_pendientes = linspace(0.5, 1.5, 100)';\n",
    "tabla_pendientes(:, 2) = tabla_pendientes(:, 1);\n",
    "tabla_pendientes(:, 1) = [1:length(tabla_pendientes(:,1))]';"
   ]
  },
  {
   "cell_type": "code",
   "execution_count": 8,
   "id": "13add367-f74e-4c60-b33d-88400a3b82f7",
   "metadata": {},
   "outputs": [],
   "source": [
    "function L = coef_lagrange(tabla, j, x)\n",
    "    L=1;\n",
    "    for k=[1:length(tabla)]\n",
    "        if(k==j)\n",
    "            continue\n",
    "        end\n",
    "    L *= (x - tabla(k, 1)) / (tabla(j, 1) - tabla(k, 1));\n",
    "    end\n",
    "end\n",
    "\n",
    "function valor = lagrange(tabla, x)\n",
    "    valor=0;;\n",
    "    for j=[1:length(tabla)]\n",
    "        valor += tabla(j, 2) * coef_lagrange(tabla, j, x);\n",
    "    end\n",
    "end"
   ]
  },
  {
   "cell_type": "code",
   "execution_count": 9,
   "id": "f422f891-1a41-4443-b268-9e8da0d8bec2",
   "metadata": {},
   "outputs": [],
   "source": [
    "for x=[1: length(tabla_pendientes(:, 1))]\n",
    "    tabla_pendientes(x, 3) = lagrange(mediciones_pendiente, tabla_pendientes(x, 2));\n",
    "    tabla_pendientes(x, 4) = lagrange(mediciones_DT, tabla_pendientes(x, 2));\n",
    "end"
   ]
  },
  {
   "cell_type": "code",
   "execution_count": 10,
   "id": "5cd3b90e-ff57-49a1-b93b-0038b78be5da",
   "metadata": {},
   "outputs": [],
   "source": [
    "h=figure;\n",
    "#x=rand(1,10);\n",
    "#y=1:10;\n",
    "plot(tabla_pendientes(:,2),tabla_pendientes(:,3),'r');\n",
    "saveas(h, 'tabla_pendientes','png');\n",
    "g=figure;\n",
    "plot(tabla_pendientes(:,2), tabla_pendientes(:,4), 'b')\n",
    "saveas(g, 'tabla_dif_t', 'png')"
   ]
  },
  {
   "cell_type": "markdown",
   "id": "9b05bb6f-e86b-464b-8dc3-d5d8c1d10c9f",
   "metadata": {},
   "source": [
    "La curva roja es la pendiente de cambio de temperatura con respecto a la carga. La azul, los grados que se pasa de la temperatura seteada con respecto a la carga de agua. Ambos están interpolados, yo solo tengo tres datos.\n",
    "\n",
    "![tabla_pendientes](tabla_pendientes.png)\n",
    "![tabla curvas temperatura](tabla_dif_t.png)"
   ]
  },
  {
   "cell_type": "code",
   "execution_count": 11,
   "id": "cee17a96-b6b2-4b36-bfe7-1995e400ed41",
   "metadata": {},
   "outputs": [],
   "source": [
    "tabla_pendientes = tabla_pendientes(:, [3:4]);#No necesito ni posicion ni niveles de agua"
   ]
  },
  {
   "cell_type": "code",
   "execution_count": 12,
   "id": "2ca04bd0-c1ca-4b45-ad6d-71c5e583ef33",
   "metadata": {},
   "outputs": [],
   "source": [
    "save tabla_pendientes"
   ]
  },
  {
   "cell_type": "code",
   "execution_count": 13,
   "id": "99eff033-5bd6-4b1c-88f3-1b6db25556a1",
   "metadata": {},
   "outputs": [],
   "source": [
    "load tabla_pendientes"
   ]
  },
  {
   "cell_type": "code",
   "execution_count": 14,
   "id": "06e4c367-324f-4a29-915b-4dc804d81142",
   "metadata": {},
   "outputs": [
    {
     "name": "stdout",
     "output_type": "stream",
     "text": [
      "tabla_pendientes =\n",
      "\n",
      "    1.0000   12.0000\n",
      "    0.9848   11.9192\n",
      "    0.9698   11.8384\n",
      "    0.9550   11.7576\n",
      "    0.9403   11.6768\n",
      "    0.9258   11.5960\n",
      "    0.9115   11.5152\n",
      "    0.8973   11.4343\n",
      "    0.8833   11.3535\n",
      "    0.8695   11.2727\n",
      "    0.8558   11.1919\n",
      "    0.8423   11.1111\n",
      "    0.8290   11.0303\n",
      "    0.8159   10.9495\n",
      "    0.8029   10.8687\n",
      "    0.7900   10.7879\n",
      "    0.7774   10.7071\n",
      "    0.7649   10.6263\n",
      "    0.7526   10.5455\n",
      "    0.7404   10.4646\n",
      "    0.7284   10.3838\n",
      "    0.7166   10.3030\n",
      "    0.7049   10.2222\n",
      "    0.6935   10.1414\n",
      "    0.6821   10.0606\n",
      "    0.6710    9.9798\n",
      "    0.6600    9.8990\n",
      "    0.6492    9.8182\n",
      "    0.6385    9.7374\n",
      "    0.6280    9.6566\n",
      "    0.6177    9.5758\n",
      "    0.6076    9.4949\n",
      "    0.5976    9.4141\n",
      "    0.5878    9.3333\n",
      "    0.5781    9.2525\n",
      "    0.5687    9.1717\n",
      "    0.5593    9.0909\n",
      "    0.5502    9.0101\n",
      "    0.5412    8.9293\n",
      "    0.5324    8.8485\n",
      "    0.5238    8.7677\n",
      "    0.5153    8.6869\n",
      "    0.5070    8.6061\n",
      "    0.4988    8.5253\n",
      "    0.4909    8.4444\n",
      "    0.4831    8.3636\n",
      "    0.4754    8.2828\n",
      "    0.4679    8.2020\n",
      "    0.4606    8.1212\n",
      "    0.4535    8.0404\n",
      "    0.4465    7.9596\n",
      "    0.4397    7.8788\n",
      "    0.4331    7.7980\n",
      "    0.4266    7.7172\n",
      "    0.4203    7.6364\n",
      "    0.4142    7.5556\n",
      "    0.4082    7.4747\n",
      "    0.4024    7.3939\n",
      "    0.3968    7.3131\n",
      "    0.3913    7.2323\n",
      "    0.3860    7.1515\n",
      "    0.3809    7.0707\n",
      "    0.3760    6.9899\n",
      "    0.3712    6.9091\n",
      "    0.3665    6.8283\n",
      "    0.3621    6.7475\n",
      "    0.3578    6.6667\n",
      "    0.3537    6.5859\n",
      "    0.3497    6.5051\n",
      "    0.3459    6.4242\n",
      "    0.3423    6.3434\n",
      "    0.3388    6.2626\n",
      "    0.3355    6.1818\n",
      "    0.3324    6.1010\n",
      "    0.3295    6.0202\n",
      "    0.3267    5.9394\n",
      "    0.3241    5.8586\n",
      "    0.3216    5.7778\n",
      "    0.3193    5.6970\n",
      "    0.3172    5.6162\n",
      "    0.3153    5.5354\n",
      "    0.3135    5.4545\n",
      "    0.3119    5.3737\n",
      "    0.3104    5.2929\n",
      "    0.3091    5.2121\n",
      "    0.3080    5.1313\n",
      "    0.3071    5.0505\n",
      "    0.3063    4.9697\n",
      "    0.3057    4.8889\n",
      "    0.3052    4.8081\n",
      "    0.3050    4.7273\n",
      "    0.3048    4.6465\n",
      "    0.3049    4.5657\n",
      "    0.3051    4.4848\n",
      "    0.3055    4.4040\n",
      "    0.3061    4.3232\n",
      "    0.3068    4.2424\n",
      "    0.3077    4.1616\n",
      "    0.3088    4.0808\n",
      "    0.3100    4.0000\n",
      "\n"
     ]
    }
   ],
   "source": [
    "tabla_pendientes"
   ]
  },
  {
   "cell_type": "code",
   "execution_count": null,
   "id": "222c5184-09df-4ca7-94e2-c0f68e7731ae",
   "metadata": {},
   "outputs": [],
   "source": []
  }
 ],
 "metadata": {
  "kernelspec": {
   "display_name": "Octave",
   "language": "octave",
   "name": "octave"
  },
  "language_info": {
   "file_extension": ".m",
   "help_links": [
    {
     "text": "GNU Octave",
     "url": "https://www.gnu.org/software/octave/support.html"
    },
    {
     "text": "Octave Kernel",
     "url": "https://github.com/Calysto/octave_kernel"
    },
    {
     "text": "MetaKernel Magics",
     "url": "https://metakernel.readthedocs.io/en/latest/source/README.html"
    }
   ],
   "mimetype": "text/x-octave",
   "name": "octave",
   "version": "6.4.0"
  }
 },
 "nbformat": 4,
 "nbformat_minor": 5
}
