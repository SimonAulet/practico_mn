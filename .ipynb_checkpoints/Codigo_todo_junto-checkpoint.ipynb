{
 "cells": [
  {
   "cell_type": "markdown",
   "id": "56a8fe57-8f90-47b8-9014-3a8c6f69f2b3",
   "metadata": {},
   "source": [
    "# Practico Final"
   ]
  },
  {
   "cell_type": "markdown",
   "id": "df60fddf-a59b-423b-8985-14402050bf53",
   "metadata": {},
   "source": [
    "![Diagrama](Diagrama.png)"
   ]
  },
  {
   "cell_type": "markdown",
   "id": "f6a13d57-e755-4cfa-a8b7-dbc355cf587d",
   "metadata": {},
   "source": [
    "## Variables globales\n",
    "Voy a hacer que algunas variables sean globales. Si bien en el flowchart estan encapsuladas en las funciones, tendria que usar objetos para que las variables queden mas ordenadas y me meteria en mucho lio"
   ]
  },
  {
   "cell_type": "code",
   "execution_count": 1,
   "id": "92abc18a-4ee7-4744-a9a8-f910ee821a41",
   "metadata": {},
   "outputs": [],
   "source": [
    "global T_media\n",
    "global VT\n",
    "global VT_nuevo#Vector temperatura para ir almacenando nuevos valores\n",
    "global estado #Si la pava esta prendida o apagada\n",
    "global T_real #La temperatura del agua\n",
    "T_real=15;\n",
    "load tabla_pendientes\n",
    "global pendientes_t = tabla_pendientes\n",
    "global valores_k\n",
    "load valores_k"
   ]
  },
  {
   "cell_type": "markdown",
   "id": "6290b050-8488-456d-9476-b7cff22eb1a5",
   "metadata": {},
   "source": [
    "## ON-OFF\n",
    "Esta funcion determina el estado de la pava resistencia de la pava\n",
    "<br>`Temperatura seteada` es una constante que voy a insertar manualmente en un principio, vendria dada por el control de la pava\n",
    "<br>`DT` Viene dado por la funcion `Calculo DT` y `T media` viene dada por la funcion `Calculo VT`\n",
    "<br> El nucleo de la funcion es una comparacion entre `T media` que se va a llamar simplemente `T` y la temperatura seteada usando el $\\Delta T$ para determinar si cortar o no"
   ]
  },
  {
   "cell_type": "code",
   "execution_count": 2,
   "id": "ca443a6e-f7a5-45c1-a4ce-736931f25d97",
   "metadata": {},
   "outputs": [],
   "source": [
    "function estado = on_off(temperatura_seteada)\n",
    "    DT = calculo_DT();\n",
    "    T = calculo_t_media();\n",
    "    \n",
    "    if T+DT >= temperatura_seteada\n",
    "        estado=0;\n",
    "    else\n",
    "        estado=1;\n",
    "    end\n",
    "end"
   ]
  },
  {
   "cell_type": "markdown",
   "id": "397a4729-67c3-467d-ba8f-62203e18c90a",
   "metadata": {},
   "source": [
    "## Calculo $\\Delta T$\n",
    "\n",
    "Esta funcion va a tomar el valor ya seteado de la pendiente y compararlo con la tabla pre-seteada de relaciones entre pendiente y nivel de agua para sacar el $\\Delta T$. En verdad el nivel de agua no lo necesito."
   ]
  },
  {
   "cell_type": "code",
   "execution_count": 3,
   "id": "253f03f3-9190-4bb4-b386-35d4ba57db5b",
   "metadata": {},
   "outputs": [],
   "source": [
    "function DT = calculo_DT()\n",
    "    global pendientes_t\n",
    "    pendiente = calculo_pendiente();\n",
    "    x=1;\n",
    "    while(pendiente < pendientes_t(x, 1))\n",
    "        x++;\n",
    "        if x > length(pendientes_t(:, 1))\n",
    "            DT=pendientes_t(x-1, 2);\n",
    "            return\n",
    "        end\n",
    "    end\n",
    "    DT = pendientes_t(x, 2);\n",
    "end"
   ]
  },
  {
   "cell_type": "markdown",
   "id": "c94af729-3abd-4110-b2c0-aafa42f5e44c",
   "metadata": {},
   "source": [
    "## Calculo pendiente\n",
    "Aca sacamos mediante regresion lineal modificada la pendiente estimada del vector de temperaturas"
   ]
  },
  {
   "cell_type": "code",
   "execution_count": 4,
   "id": "fdec885b-10d1-466b-bd88-6baf2804fbf1",
   "metadata": {},
   "outputs": [],
   "source": [
    "function pendiente = calculo_pendiente()\n",
    "    global VT;\n",
    "    X = linspace(0, 1, 36);#Intervalo de tiempo de un segundo\n",
    "    Y = VT;#Vector temperaturas medidas en un segundo fraccionadas en 12 mediciones\n",
    "\n",
    "    #Calculo valores para pendiente de regresion lineal\n",
    "    n = length(X);\n",
    "    x = sum(X);\n",
    "    y = sum(Y);\n",
    "    xy = sum(X .* Y);\n",
    "    xx = sum(X .^ 2);\n",
    "    xx2 = (sum(X))^2;\n",
    "    med_x = (mean(X));\n",
    "    med_y = (mean(Y));\n",
    "\n",
    "    pendiente = (n*xy - x*y) / (n*xx - xx2);\n",
    "end"
   ]
  },
  {
   "cell_type": "markdown",
   "id": "52a56671-1300-4cb1-b56b-3871ecde64ed",
   "metadata": {},
   "source": [
    "## Calculo T Media\n",
    "Función que calcula la temperatura media basandose en la variable global del vector de temperaturas `VT`"
   ]
  },
  {
   "cell_type": "code",
   "execution_count": 5,
   "id": "4d22715e-8cb4-4603-aee0-9e51b53f9dc0",
   "metadata": {},
   "outputs": [],
   "source": [
    "function t_media = calculo_t_media()\n",
    "    global VT\n",
    "    t_media = mean(VT);\n",
    "end"
   ]
  },
  {
   "cell_type": "markdown",
   "id": "a0b90570-c045-48b1-9ec5-4a2c9fee4ba1",
   "metadata": {},
   "source": [
    "## Calculo Vector temperatura\n",
    "Esta función calcula el vector de 12 mediciones de temperatura correspondientes a un segundo de ejecución. Para calcularlo recibe un valor de temperatura instantanea y lo acumula en un vector auxiliar que se va llenando. Cuando el vector tiene dimensión 12, entonces reemplaza variable global `VT`. No lo devuelve. De esa forma, actualiza por su cuenta la variable del vector de temperaturas el cual siempre esta disponible. Como se ejecuta una vez por medicion, el vector auxiliar tambien lo tengo que almacenar como variable global"
   ]
  },
  {
   "cell_type": "code",
   "execution_count": 6,
   "id": "043df59f-1c61-43c7-bd56-41900309b877",
   "metadata": {},
   "outputs": [],
   "source": [
    "function calculo_VT(t_instantanea)\n",
    "    global VT_nuevo;\n",
    "    VT_nuevo(end+1) = t_instantanea;\n",
    "    \n",
    "    if length(VT_nuevo) > 35\n",
    "        global VT\n",
    "        VT = VT_nuevo;\n",
    "        VT_nuevo = [];\n",
    "    end\n",
    "end"
   ]
  },
  {
   "cell_type": "markdown",
   "id": "c64d8caa-0836-4980-b546-5f0a41260b82",
   "metadata": {},
   "source": [
    "# Simulacion\n",
    "Voy a simular el comportamiento de la pava en lo que seria la sonda de tempratura ya que no puedo correr el programa en la pava realmente"
   ]
  },
  {
   "cell_type": "markdown",
   "id": "21a59026-b0e4-449a-9922-4d156b6bd7dd",
   "metadata": {},
   "source": [
    "### Sonda"
   ]
  },
  {
   "cell_type": "markdown",
   "id": "e48f52fa-491e-4382-a3c6-e6c09f4dc837",
   "metadata": {},
   "source": [
    "Primero tengo la función `sonda` que simula el aumento de temperatura basandse en el coeficiente $k$ que viene determinado por la cantidad de agua en la pava. Para determinar la temperatura voy a usar el método de Heunn"
   ]
  },
  {
   "cell_type": "code",
   "execution_count": 7,
   "id": "8d7b77ed-8d0a-400e-b9d0-21e94d6fb3c0",
   "metadata": {
    "tags": []
   },
   "outputs": [],
   "source": [
    "function resultado = heun(f, x_0, y_0, X, cant_pasos=1)\n",
    "    h = abs((x_0-X) / cant_pasos);\n",
    "    x = x_0;\n",
    "    y = y_0;\n",
    "    \n",
    "    while x < X\n",
    "        x1 = x+h;\n",
    "        y1p = y + f(x, y)*h;\n",
    "        y1 = y + h*(f(x, y) + f(x1, y1p)) / 2;\n",
    "        x=x1;\n",
    "        y=y1;\n",
    "    end\n",
    "    resultado = y;\n",
    "end    "
   ]
  },
  {
   "cell_type": "markdown",
   "id": "10b2dc4c-9012-4a89-8779-74650f8ac8a7",
   "metadata": {},
   "source": [
    "Esta funcion asigna la temperatura a la variable global `T_real` en lugar de devolverla. Simula el comportamiento de la pava"
   ]
  },
  {
   "cell_type": "code",
   "execution_count": 8,
   "id": "cfef712e-0560-4f9b-bdf0-13aa388d291a",
   "metadata": {},
   "outputs": [],
   "source": [
    "function sonda(k)\n",
    "    global T_real;\n",
    "    global estado;\n",
    "\n",
    "    if estado==1\n",
    "        f = @(T) k*(T-400);\n",
    "        T_real = heun(f, 0, T_real, 1/36);#El tempo va de 0 a 1/36, no me interesa el tiempo real, solo el paso que da\n",
    "    else\n",
    "        return\n",
    "    end\n",
    "end"
   ]
  },
  {
   "cell_type": "markdown",
   "id": "35b7000a-945f-4a5c-a875-81c96beac9a7",
   "metadata": {},
   "source": [
    "### Simulador\n",
    "Ahora voy a agarrar y simular el uso de la pava\n",
    "\n",
    "La funcion `simulador` va a tomar como parametro:\n",
    "- La cantidad de agua en la pava (en el caso real no la tengo que conocer pero ahora la necesito para simular su comportamiento)\n",
    "- La temperatura seteada\n",
    "\n",
    "La cantidad de agua tiene que ser un numero entre 0.5 (minimo de la pava, si no no prende) y 1.5 (maximo de la pava, si no se rebalsa)\n",
    "<br> Y la temperatura tiene que ser menor de 100 pero mayor a 25"
   ]
  },
  {
   "cell_type": "code",
   "execution_count": 9,
   "id": "ae86b704-b5b6-4d93-8f34-69caf2200d57",
   "metadata": {},
   "outputs": [],
   "source": [
    "function registro_simulacion = simulador(cantidad_agua, T_seteada, T_inicial=15, max_t=1024)\n",
    "    #Primero determino valor de k para simular nivel de agua\n",
    "    if cantidad_agua < 0.5\n",
    "        printf(\"Se cargo menos agua de la permitida por la pava, cargar mas\\n\")\n",
    "        return\n",
    "    elseif cantidad_agua > 1.5\n",
    "        printf(\"Se cargo agua de mas, cargar menos y reintentar\\n\")\n",
    "        return\n",
    "    end\n",
    "    load valores_k;\n",
    "    x=1;\n",
    "    while valores_k(x, 1) < cantidad_agua\n",
    "        x++;\n",
    "    end\n",
    "    k = valores_k(x, 2);\n",
    "    #Chequeo que la temperatura este en el rango optimo\n",
    "    T=T_seteada;\n",
    "    if or(T > 100, T < 25)\n",
    "        printf(\"Setear temperatura entre 25 y 100 grados\\n\")\n",
    "        return\n",
    "    end\n",
    "    \n",
    "    #Preparo parametros para simulacion\n",
    "    global T_real\n",
    "    T_real = T_inicial;\n",
    "    global estado\n",
    "    registro = [];\n",
    "    \n",
    "    #Inicializo VT\n",
    "    global VT\n",
    "    global VT_aux\n",
    "    VT=0;\n",
    "    VT_aux=0;\n",
    "    for x=[1:36]\n",
    "        sonda(k)\n",
    "        calculo_VT(T_real)\n",
    "    end\n",
    "    \n",
    "    #Prendo la pava\n",
    "    estado=1;\n",
    "    t=0;\n",
    "    while(estado==1)\n",
    "        for x=[1:36]\n",
    "            sonda(k)\n",
    "            calculo_VT(T_real)\n",
    "        end\n",
    "        estado=on_off(T);\n",
    "        t++;\n",
    "        if(t>max_t)\n",
    "            printf(\"Se supera max_iter\\n\")\n",
    "            return\n",
    "        end\n",
    "        \n",
    "        #Guardo resultados en registro\n",
    "        registro(t, 1) = t;\n",
    "        registro(t, 2) = T_real;\n",
    "    end\n",
    "    registro_simulacion = registro;\n",
    "    plot(registro(:, 1), registro(:, 2), 'b', 'LineWidth', 2)\n",
    "    grid on\n",
    "    axis([0, t+12, 0, 100])\n",
    "    title('Variacion de temperatura respecto al tiempo')\n",
    "    xlabel('Tiempo (s)')\n",
    "    xlabel('Temperatura')\n",
    "end"
   ]
  },
  {
   "cell_type": "code",
   "execution_count": 14,
   "id": "f093ef2f-ac80-410e-a040-b541aa041f33",
   "metadata": {},
   "outputs": [
    {
     "name": "stdout",
     "output_type": "stream",
     "text": [
      "ans =\n",
      "\n",
      "     1.0000    15.3600\n",
      "     2.0000    15.7200\n",
      "     3.0000    16.0800\n",
      "     4.0000    16.4400\n",
      "     5.0000    16.7999\n",
      "     6.0000    17.1599\n",
      "     7.0000    17.5199\n",
      "     8.0000    17.8799\n",
      "     9.0000    18.2399\n",
      "    10.0000    18.5999\n",
      "    11.0000    18.9599\n",
      "    12.0000    19.3199\n",
      "    13.0000    19.6798\n",
      "    14.0000    20.0398\n",
      "    15.0000    20.3998\n",
      "    16.0000    20.7598\n",
      "    17.0000    21.1198\n",
      "    18.0000    21.4798\n",
      "    19.0000    21.8398\n",
      "    20.0000    22.1998\n",
      "    21.0000    22.5597\n",
      "    22.0000    22.9197\n",
      "    23.0000    23.2797\n",
      "    24.0000    23.6397\n",
      "    25.0000    23.9997\n",
      "    26.0000    24.3597\n",
      "    27.0000    24.7197\n",
      "    28.0000    25.0797\n",
      "    29.0000    25.4396\n",
      "    30.0000    25.7996\n",
      "    31.0000    26.1596\n",
      "    32.0000    26.5196\n",
      "    33.0000    26.8796\n",
      "    34.0000    27.2396\n",
      "    35.0000    27.5996\n",
      "    36.0000    27.9596\n",
      "    37.0000    28.3195\n",
      "    38.0000    28.6795\n",
      "    39.0000    29.0395\n",
      "    40.0000    29.3995\n",
      "    41.0000    29.7595\n",
      "    42.0000    30.1195\n",
      "    43.0000    30.4795\n",
      "    44.0000    30.8395\n",
      "    45.0000    31.1994\n",
      "    46.0000    31.5594\n",
      "    47.0000    31.9194\n",
      "    48.0000    32.2794\n",
      "    49.0000    32.6394\n",
      "    50.0000    32.9994\n",
      "    51.0000    33.3594\n",
      "    52.0000    33.7194\n",
      "    53.0000    34.0793\n",
      "    54.0000    34.4393\n",
      "    55.0000    34.7993\n",
      "    56.0000    35.1593\n",
      "    57.0000    35.5193\n",
      "    58.0000    35.8793\n",
      "    59.0000    36.2393\n",
      "    60.0000    36.5993\n",
      "    61.0000    36.9592\n",
      "    62.0000    37.3192\n",
      "    63.0000    37.6792\n",
      "    64.0000    38.0392\n",
      "    65.0000    38.3992\n",
      "    66.0000    38.7592\n",
      "    67.0000    39.1192\n",
      "    68.0000    39.4792\n",
      "    69.0000    39.8391\n",
      "    70.0000    40.1991\n",
      "    71.0000    40.5591\n",
      "    72.0000    40.9191\n",
      "    73.0000    41.2791\n",
      "    74.0000    41.6391\n",
      "    75.0000    41.9991\n",
      "    76.0000    42.3591\n",
      "    77.0000    42.7190\n",
      "    78.0000    43.0790\n",
      "    79.0000    43.4390\n",
      "    80.0000    43.7990\n",
      "    81.0000    44.1590\n",
      "    82.0000    44.5190\n",
      "    83.0000    44.8790\n",
      "    84.0000    45.2390\n",
      "    85.0000    45.5989\n",
      "    86.0000    45.9589\n",
      "    87.0000    46.3189\n",
      "    88.0000    46.6789\n",
      "    89.0000    47.0389\n",
      "    90.0000    47.3989\n",
      "    91.0000    47.7589\n",
      "    92.0000    48.1189\n",
      "    93.0000    48.4788\n",
      "    94.0000    48.8388\n",
      "    95.0000    49.1988\n",
      "    96.0000    49.5588\n",
      "    97.0000    49.9188\n",
      "    98.0000    50.2788\n",
      "    99.0000    50.6388\n",
      "   100.0000    50.9988\n",
      "   101.0000    51.3587\n",
      "   102.0000    51.7187\n",
      "   103.0000    52.0787\n",
      "   104.0000    52.4387\n",
      "   105.0000    52.7987\n",
      "   106.0000    53.1587\n",
      "   107.0000    53.5187\n",
      "   108.0000    53.8787\n",
      "   109.0000    54.2386\n",
      "   110.0000    54.5986\n",
      "   111.0000    54.9586\n",
      "   112.0000    55.3186\n",
      "   113.0000    55.6786\n",
      "   114.0000    56.0386\n",
      "   115.0000    56.3986\n",
      "   116.0000    56.7586\n",
      "   117.0000    57.1185\n",
      "   118.0000    57.4785\n",
      "   119.0000    57.8385\n",
      "   120.0000    58.1985\n",
      "   121.0000    58.5585\n",
      "   122.0000    58.9185\n",
      "   123.0000    59.2785\n",
      "   124.0000    59.6385\n",
      "   125.0000    59.9984\n",
      "   126.0000    60.3584\n",
      "   127.0000    60.7184\n",
      "   128.0000    61.0784\n",
      "   129.0000    61.4384\n",
      "   130.0000    61.7984\n",
      "   131.0000    62.1584\n",
      "   132.0000    62.5184\n",
      "   133.0000    62.8783\n",
      "   134.0000    63.2383\n",
      "   135.0000    63.5983\n",
      "   136.0000    63.9583\n",
      "   137.0000    64.3183\n",
      "   138.0000    64.6783\n",
      "   139.0000    65.0383\n",
      "   140.0000    65.3983\n",
      "   141.0000    65.7582\n",
      "   142.0000    66.1182\n",
      "   143.0000    66.4782\n",
      "   144.0000    66.8382\n",
      "   145.0000    67.1982\n",
      "   146.0000    67.5582\n",
      "   147.0000    67.9182\n",
      "   148.0000    68.2782\n",
      "   149.0000    68.6381\n",
      "   150.0000    68.9981\n",
      "   151.0000    69.3581\n",
      "   152.0000    69.7181\n",
      "   153.0000    70.0781\n",
      "   154.0000    70.4381\n",
      "   155.0000    70.7981\n",
      "   156.0000    71.1581\n",
      "   157.0000    71.5180\n",
      "   158.0000    71.8780\n",
      "\n"
     ]
    }
   ],
   "source": [
    "simulador(1.5, 78)"
   ]
  },
  {
   "cell_type": "code",
   "execution_count": null,
   "id": "b04d70f9-c1d8-4a02-a7ea-8d4eaa909cfe",
   "metadata": {},
   "outputs": [],
   "source": []
  }
 ],
 "metadata": {
  "kernelspec": {
   "display_name": "Octave",
   "language": "octave",
   "name": "octave"
  },
  "language_info": {
   "file_extension": ".m",
   "help_links": [
    {
     "text": "GNU Octave",
     "url": "https://www.gnu.org/software/octave/support.html"
    },
    {
     "text": "Octave Kernel",
     "url": "https://github.com/Calysto/octave_kernel"
    },
    {
     "text": "MetaKernel Magics",
     "url": "https://metakernel.readthedocs.io/en/latest/source/README.html"
    }
   ],
   "mimetype": "text/x-octave",
   "name": "octave",
   "version": "6.4.0"
  }
 },
 "nbformat": 4,
 "nbformat_minor": 5
}
