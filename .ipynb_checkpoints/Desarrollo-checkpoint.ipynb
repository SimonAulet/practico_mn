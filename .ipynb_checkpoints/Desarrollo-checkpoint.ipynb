{
 "cells": [
  {
   "cell_type": "markdown",
   "id": "a239cddb-f5a6-4d79-aaa3-06d22a7d95e7",
   "metadata": {},
   "source": [
    "# Desarrollo y datos calculados"
   ]
  },
  {
   "cell_type": "markdown",
   "id": "572ab276-4786-4be0-a382-5428c34f54c2",
   "metadata": {
    "tags": []
   },
   "source": [
    "### Interpolacion curva de temperaturas\n",
    "En base a la tabla de pruebas de pendientes por cada $1° C$ hechas a partir de 0.5, 1 y 1.5 lts de carga con la pava voy a interpolar para sacar la curva de pendientes a distintas cargas de agua. Tengo solo los extremos y un punto medio, lo tomo como suficiente para no romper mi pava haciendole tantas pruebas. Uso el polinomio interpolador de Lagrange"
   ]
  },
  {
   "cell_type": "markdown",
   "id": "9ce774f9-4751-46bc-a72b-b8dabe7734f7",
   "metadata": {},
   "source": [
    "Tengo la siguiente tabla de mediciones de mi pava\n",
    "\n",
    "![img](./mediciones_pava.png)"
   ]
  },
  {
   "cell_type": "code",
   "execution_count": 34,
   "id": "7333faab-338e-4da1-8517-ea3e614f1ca6",
   "metadata": {},
   "outputs": [],
   "source": [
    "#primero tabla de diferencias de temperatura con respecto a carga de agua\n",
    "mediciones_pendiente = [0.5, 1;\n",
    "                            1, 0.45;\n",
    "                            1.5, 0.31];\n",
    "#Después de cuánto se pasa la temperatura a distintos niveles de agua\n",
    "mediciones_DT = [\n",
    "                        0.5, 12;\n",
    "                        1, 8;\n",
    "                        1.5, 4];\n",
    "\n",
    "tabla_pendientes = linspace(0.5, 1.5, 100)';\n",
    "tabla_pendientes(:, 2) = tabla_pendientes(:, 1);\n",
    "tabla_pendientes(:, 1) = [1:length(tabla_pendientes(:,1))]';"
   ]
  },
  {
   "cell_type": "code",
   "execution_count": 35,
   "id": "13add367-f74e-4c60-b33d-88400a3b82f7",
   "metadata": {},
   "outputs": [],
   "source": [
    "function L = coef_lagrange(tabla, j, x)\n",
    "    L=1;\n",
    "    for k=[1:length(tabla)]\n",
    "        if(k==j)\n",
    "            continue\n",
    "        end\n",
    "    L *= (x - tabla(k, 1)) / (tabla(j, 1) - tabla(k, 1));\n",
    "    end\n",
    "end\n",
    "\n",
    "function valor = lagrange(tabla, x)\n",
    "    valor=0;;\n",
    "    for j=[1:length(tabla)]\n",
    "        valor += tabla(j, 2) * coef_lagrange(tabla, j, x);\n",
    "    end\n",
    "end"
   ]
  },
  {
   "cell_type": "code",
   "execution_count": 36,
   "id": "f422f891-1a41-4443-b268-9e8da0d8bec2",
   "metadata": {},
   "outputs": [],
   "source": [
    "for x=[1: length(tabla_pendientes(:, 1))]\n",
    "    tabla_pendientes(x, 3) = lagrange(mediciones_pendiente, tabla_pendientes(x, 2));\n",
    "    tabla_pendientes(x, 4) = lagrange(mediciones_DT, tabla_pendientes(x, 2));\n",
    "end"
   ]
  },
  {
   "cell_type": "code",
   "execution_count": 37,
   "id": "5cd3b90e-ff57-49a1-b93b-0038b78be5da",
   "metadata": {},
   "outputs": [],
   "source": [
    "h=figure;\n",
    "#x=rand(1,10);\n",
    "#y=1:10;\n",
    "plot(tabla_pendientes(:,2),tabla_pendientes(:,3),'r');\n",
    "saveas(h, 'tabla_pendientes','png');\n",
    "g=figure;\n",
    "plot(tabla_pendientes(:,2), tabla_pendientes(:,4), 'b')\n",
    "saveas(g, 'tabla_dif_t', 'png')"
   ]
  },
  {
   "cell_type": "markdown",
   "id": "9b05bb6f-e86b-464b-8dc3-d5d8c1d10c9f",
   "metadata": {},
   "source": [
    "La curva roja es la pendiente de cambio de temperatura con respecto a la carga. La azul, los grados que se pasa de la temperatura seteada con respecto a la carga de agua. Ambos están interpolados, yo solo tengo tres datos.\n",
    "\n",
    "![tabla_pendientes](tabla_pendientes.png)\n",
    "![tabla curvas temperatura](tabla_dif_t.png)"
   ]
  },
  {
   "cell_type": "code",
   "execution_count": 38,
   "id": "cee17a96-b6b2-4b36-bfe7-1995e400ed41",
   "metadata": {},
   "outputs": [],
   "source": [
    "tabla_pendientes = tabla_pendientes(:, [3:4]);#No necesito ni posicion ni niveles de agua"
   ]
  },
  {
   "cell_type": "code",
   "execution_count": 31,
   "id": "2ca04bd0-c1ca-4b45-ad6d-71c5e583ef33",
   "metadata": {},
   "outputs": [],
   "source": [
    "save tabla_pendientes tabla_pendientes"
   ]
  },
  {
   "cell_type": "code",
   "execution_count": 13,
   "id": "99eff033-5bd6-4b1c-88f3-1b6db25556a1",
   "metadata": {},
   "outputs": [],
   "source": [
    "load tabla_pendientes"
   ]
  },
  {
   "cell_type": "markdown",
   "id": "8b7607ab-bee2-4f89-b4c9-359c04443e54",
   "metadata": {},
   "source": [
    "## Simulacion comportamiento pava\n",
    "Al no poder probar esto con una pava real hago la simulación del comportamiento de la pava usando datos estimados y la ecuación de enfriamiento\n",
    "\n",
    "$$\\frac{\\partial T}{\\partial t} = -k (T - T_m)$$"
   ]
  },
  {
   "cell_type": "markdown",
   "id": "01ae9fe4-7c94-4d43-9112-5a563320ecbd",
   "metadata": {},
   "source": [
    "Vamos a buscar los niveles de k para distintos niveles de agua. Pruebo a mano con la función acercandome con valores para las tres mediciones que ya tengo"
   ]
  },
  {
   "cell_type": "code",
   "execution_count": 36,
   "id": "79db36f5-00c2-4d34-b1d4-35a40876c6d0",
   "metadata": {},
   "outputs": [
    {
     "name": "stdout",
     "output_type": "stream",
     "text": [
      "ans = 0.3150\n"
     ]
    }
   ],
   "source": [
    "f = @(T) -0.0009*(T-400);\n",
    "\n",
    "f(50)"
   ]
  },
  {
   "cell_type": "markdown",
   "id": "839835cd-a4d3-423e-bf82-b0fc30d8e3ac",
   "metadata": {},
   "source": [
    "- Para medio litro $k=-0.003$\n",
    "- Para un litro $k=-0.0013$\n",
    "- Para litro y medio $k=-0.0009$"
   ]
  },
  {
   "cell_type": "markdown",
   "id": "9ca424ff-cc3a-4d20-9eb1-c9e398f3a79e",
   "metadata": {},
   "source": [
    "Ahora interpolo para estimar los $k$ con diferencia de un grado. De vuelta con Lagrange"
   ]
  },
  {
   "cell_type": "code",
   "execution_count": 39,
   "id": "c686aee1-6f83-4c96-9501-c94f74e5134e",
   "metadata": {},
   "outputs": [],
   "source": [
    "tabla_k = [0.5, -0.003;\n",
    "        1, -0.0013;\n",
    "        1.5, -0.0009];\n",
    "valores_k = [1:10]';\n",
    "valores_k(:, 2) = linspace(0.5, 1.5, 10)';"
   ]
  },
  {
   "cell_type": "code",
   "execution_count": 40,
   "id": "14ed5d83-238c-4da9-a09d-8029792c109d",
   "metadata": {},
   "outputs": [],
   "source": [
    "for x=[1:10]\n",
    "    valores_k(x, 3) = lagrange(tabla_k, valores_k(x, 2));\n",
    "end\n",
    "valores_k = valores_k(:, 2:3);"
   ]
  },
  {
   "cell_type": "markdown",
   "id": "8f97f325-ff3d-4838-9424-f2bcb2528b94",
   "metadata": {},
   "source": [
    "Ok, ahora tengo los valores $k$ que determinan la velocidad de calentamiento en base a la cantidad de agua, es lo que después voy a estimar"
   ]
  },
  {
   "cell_type": "code",
   "execution_count": 24,
   "id": "db7ca5cd-06e9-410b-b4a7-e72467d39d5d",
   "metadata": {},
   "outputs": [],
   "source": [
    "save valores_k valores_k"
   ]
  },
  {
   "cell_type": "markdown",
   "id": "c8837894-697d-4aaa-8d24-3c70f3e24579",
   "metadata": {},
   "source": [
    "Voy a hacer una función `sonda` que setea la temperatura instantanea en base a la temperatura actual y el paso dado. Esta funcion actualiza la variable globale `T_real`. Pongo esta funcion en el codigo principal"
   ]
  }
 ],
 "metadata": {
  "kernelspec": {
   "display_name": "Octave",
   "language": "octave",
   "name": "octave"
  },
  "language_info": {
   "file_extension": ".m",
   "help_links": [
    {
     "text": "GNU Octave",
     "url": "https://www.gnu.org/software/octave/support.html"
    },
    {
     "text": "Octave Kernel",
     "url": "https://github.com/Calysto/octave_kernel"
    },
    {
     "text": "MetaKernel Magics",
     "url": "https://metakernel.readthedocs.io/en/latest/source/README.html"
    }
   ],
   "mimetype": "text/x-octave",
   "name": "octave",
   "version": "6.4.0"
  }
 },
 "nbformat": 4,
 "nbformat_minor": 5
}
