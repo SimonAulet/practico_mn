{
 "cells": [
  {
   "cell_type": "markdown",
   "id": "56a8fe57-8f90-47b8-9014-3a8c6f69f2b3",
   "metadata": {},
   "source": [
    "# Practico Final"
   ]
  },
  {
   "cell_type": "markdown",
   "id": "df60fddf-a59b-423b-8985-14402050bf53",
   "metadata": {},
   "source": [
    "![Diagrama](Diagrama.png)"
   ]
  },
  {
   "cell_type": "markdown",
   "id": "f6a13d57-e755-4cfa-a8b7-dbc355cf587d",
   "metadata": {},
   "source": [
    "## Variables globales\n",
    "Voy a hacer que algunas variables sean globales. Si bien en el flowchart estan encapsuladas en las funciones, tendria que usar objetos para que las variables queden mas ordenadas y me meteria en mucho lio"
   ]
  },
  {
   "cell_type": "code",
   "execution_count": 2,
   "id": "92abc18a-4ee7-4744-a9a8-f910ee821a41",
   "metadata": {},
   "outputs": [
    {
     "name": "stdout",
     "output_type": "stream",
     "text": [
      "temperatura_seteada = 60\n",
      "T_media = 0\n"
     ]
    }
   ],
   "source": [
    "temperatura_seteada = 60 #Temperatura a la que queremos que se caliente el agua\n",
    "global T_media\n",
    "global VT\n",
    "global VT_nuevo#Vector temperatura para ir almacenando nuevos valores\n",
    "T_media = 0#Se va a setear con la funcion Calculo T_media\n",
    "load tabla_pendientes\n",
    "global pendientes_t = tabla_pendientes"
   ]
  },
  {
   "cell_type": "markdown",
   "id": "6290b050-8488-456d-9476-b7cff22eb1a5",
   "metadata": {},
   "source": [
    "## ON-OFF\n",
    "Esta funcion determina el estado de la pava resistencia de la pava\n",
    "<br>`Temperatura seteada` es una constante que voy a insertar manualmente en un principio, vendria dada por el control de la pava\n",
    "<br>`DT` Viene dado por la funcion `Calculo DT` y `T media` viene dada por la funcion `Calculo VT`\n",
    "<br> El nucleo de la funcion es una comparacion entre `T media` que se va a llamar simplemente `T` y la temperatura seteada usando el $\\Delta T$ para determinar si cortar o no"
   ]
  },
  {
   "cell_type": "code",
   "execution_count": 13,
   "id": "ca443a6e-f7a5-45c1-a4ce-736931f25d97",
   "metadata": {},
   "outputs": [],
   "source": [
    "function estado = on_off(temperatura_seteada)\n",
    "    DT = calculo_DT();\n",
    "    T = calculo_t_media();\n",
    "    \n",
    "    if T+DT >= temperatura_seteada\n",
    "        estado=0;\n",
    "    else\n",
    "        estado=1;\n",
    "    end\n",
    "end"
   ]
  },
  {
   "cell_type": "markdown",
   "id": "397a4729-67c3-467d-ba8f-62203e18c90a",
   "metadata": {},
   "source": [
    "## Calculo $\\Delta T$\n",
    "\n",
    "Esta funcion va a tomar el valor ya seteado de la pendiente y compararlo con la tabla pre-seteada de relaciones entre pendiente y nivel de agua para sacar el $\\Delta T$. En verdad el nivel de agua no lo necesito."
   ]
  },
  {
   "cell_type": "code",
   "execution_count": 19,
   "id": "253f03f3-9190-4bb4-b386-35d4ba57db5b",
   "metadata": {},
   "outputs": [],
   "source": [
    "function DT = calculo_DT()\n",
    "    global pendientes_t\n",
    "    pendiente = calculo_pendiente();\n",
    "    x=1;\n",
    "    while(pendiente < pendientes_t(x, 1))\n",
    "        x++;\n",
    "        if x > length(pendientes_t(:, 1)+2)\n",
    "            printf(\"Falla en calculo de pendiente\\n\")\n",
    "            return\n",
    "        end\n",
    "    end\n",
    "    DT = pendientes_t(x, 2);\n",
    "end"
   ]
  },
  {
   "cell_type": "markdown",
   "id": "c94af729-3abd-4110-b2c0-aafa42f5e44c",
   "metadata": {},
   "source": [
    "## Calculo pendiente\n",
    "Aca sacamos mediante regresion lineal modificada la pendiente estimada del vector de temperaturas"
   ]
  },
  {
   "cell_type": "code",
   "execution_count": 5,
   "id": "fdec885b-10d1-466b-bd88-6baf2804fbf1",
   "metadata": {},
   "outputs": [],
   "source": [
    "function pendiente = calculo_pendiente()\n",
    "    global VT;\n",
    "    X = linspace(0, 1, 12);#Intervalo de tiempo de un segundo\n",
    "    Y = VT;#Vector temperaturas medidas en un segundo fraccionadas en 12 mediciones\n",
    "\n",
    "    #Calculo valores para pendiente de regresion lineal\n",
    "    n = length(X);\n",
    "    x = sum(X);\n",
    "    y = sum(Y);\n",
    "    xy = sum(X .* Y);\n",
    "    xx = sum(X .^ 2);\n",
    "    xx2 = (sum(X))^2;\n",
    "    med_x = (mean(X));\n",
    "    med_y = (mean(Y));\n",
    "\n",
    "    pendiente = (n*xy - x*y) / (n*xx - xx2);\n",
    "end"
   ]
  },
  {
   "cell_type": "markdown",
   "id": "52a56671-1300-4cb1-b56b-3871ecde64ed",
   "metadata": {},
   "source": [
    "## Calculo T Media\n",
    "Función que calcula la temperatura media basandose en la variable global del vector de temperaturas `VT`"
   ]
  },
  {
   "cell_type": "code",
   "execution_count": 15,
   "id": "4d22715e-8cb4-4603-aee0-9e51b53f9dc0",
   "metadata": {},
   "outputs": [],
   "source": [
    "function t_media = calculo_t_media()\n",
    "    global VT\n",
    "    t_media = mean(VT);\n",
    "end"
   ]
  },
  {
   "cell_type": "markdown",
   "id": "a0b90570-c045-48b1-9ec5-4a2c9fee4ba1",
   "metadata": {},
   "source": [
    "## Calculo Vector temperatura\n",
    "Esta función calcula el vector de 12 mediciones de temperatura correspondientes a un segundo de ejecución. Para calcularlo recibe un valor de temperatura instantanea y lo acumula en un vector auxiliar que se va llenando. Cuando el vector tiene dimensión 12, entonces reemplaza variable global `VT`. No lo devuelve. De esa forma, actualiza por su cuenta la variable del vector de temperaturas el cual siempre esta disponible. Como se ejecuta una vez por medicion, el vector auxiliar tambien lo tengo que almacenar como variable global"
   ]
  },
  {
   "cell_type": "code",
   "execution_count": 7,
   "id": "043df59f-1c61-43c7-bd56-41900309b877",
   "metadata": {},
   "outputs": [],
   "source": [
    "function calculo_VT(t_instantanea)\n",
    "    global VT_nuevo;\n",
    "    VT_nuevo(end+1) = t_instantanea;\n",
    "    \n",
    "    if length(VT_nuevo) > 11\n",
    "        global VT\n",
    "        VT = VT_nuevo;\n",
    "        VT_nuevo = [];\n",
    "    end\n",
    "end"
   ]
  },
  {
   "cell_type": "code",
   "execution_count": 9,
   "id": "c5abe77b-d977-4e9a-a128-4fca894364ab",
   "metadata": {},
   "outputs": [],
   "source": [
    "for x=[1:length(aux)]\n",
    "    calculo_VT(aux(x))\n",
    "end"
   ]
  },
  {
   "cell_type": "code",
   "execution_count": 8,
   "id": "3a8d7237-084b-487c-b52c-e686f1b42080",
   "metadata": {},
   "outputs": [],
   "source": [
    "aux = [31.6, 31.6, 31.7, 31.6, 31.8, 31.9, 31.7, 31.8, 32.0, 31.9, 31.9, 32.0, 32.2, 32.1, 32.3];"
   ]
  },
  {
   "cell_type": "code",
   "execution_count": 18,
   "id": "9f89142e-bb2f-4b6a-a420-c86e06fef47e",
   "metadata": {},
   "outputs": [
    {
     "name": "stdout",
     "output_type": "stream",
     "text": [
      "ans = 1\n"
     ]
    }
   ],
   "source": [
    "on_off(48)"
   ]
  }
 ],
 "metadata": {
  "kernelspec": {
   "display_name": "Octave",
   "language": "octave",
   "name": "octave"
  },
  "language_info": {
   "file_extension": ".m",
   "help_links": [
    {
     "text": "GNU Octave",
     "url": "https://www.gnu.org/software/octave/support.html"
    },
    {
     "text": "Octave Kernel",
     "url": "https://github.com/Calysto/octave_kernel"
    },
    {
     "text": "MetaKernel Magics",
     "url": "https://metakernel.readthedocs.io/en/latest/source/README.html"
    }
   ],
   "mimetype": "text/x-octave",
   "name": "octave",
   "version": "6.4.0"
  }
 },
 "nbformat": 4,
 "nbformat_minor": 5
}
